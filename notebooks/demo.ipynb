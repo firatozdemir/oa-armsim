{
 "cells": [
  {
   "cell_type": "markdown",
   "metadata": {},
   "source": [
    "# Demo for using oa-armsim"
   ]
  },
  {
   "cell_type": "code",
   "execution_count": null,
   "metadata": {},
   "outputs": [],
   "source": [
    "import sys, os\n",
    "import numpy as np\n",
    "import matplotlib.pyplot as plt\n",
    "\n",
    "if os.path.basename(os.getcwd()) == 'notebooks':\n",
    "    os.chdir('..')\n",
    "if 'src' not in sys.path:\n",
    "    sys.path.append('src')\n",
    "import utils"
   ]
  },
  {
   "cell_type": "code",
   "execution_count": null,
   "metadata": {},
   "outputs": [],
   "source": [
    "import importlib \n",
    "importlib.reload(utils)\n",
    "\n",
    "seed=99\n",
    "resolutionXY = 256 ## acoustic pressure map is a square \n",
    "cylinder_size_max = 15 # pixels\n",
    "cylinder_size_min = 1 # pixels\n",
    "max_depth_cylinder_from_skin = 90\n",
    "numEllipsesMax = 8 #not used anymore\n",
    "lims_rot_x = 80 ## max rotation along x-axis (axis parallel to skinline), high values can lead to vessels being parallel to imaging plane  \n",
    "lims_rot_y = 30 ## max rotation along y-axis (axis orthogonal to skinline)\n",
    "behind_skin_noise = True\n",
    "skin_noise_min = 10 #pixels\n",
    "skin_noise_max = 40 #pixels\n",
    "vessel_noise = True\n",
    "prng = np.random.RandomState(seed)\n",
    "sim_ellipses_obj = utils.GenerateVesselsAndSkinAndMasks(resolutionXY=resolutionXY, cylinder_size_max=cylinder_size_max, cylinder_size_min=cylinder_size_min, \\\n",
    "    max_depth_cylinder_from_skin=max_depth_cylinder_from_skin, numEllipsesMax=numEllipsesMax, lims_rot_x=lims_rot_x, lims_rot_y=lims_rot_y, \\\n",
    "        skin_noise_min=skin_noise_min, skin_noise_max=skin_noise_max, behind_skin_noise=behind_skin_noise, vessel_noise=vessel_noise, prng=prng)  \n",
    "syntheticImage_fn = sim_ellipses_obj.generate\n",
    "\n",
    "multichannel2images = lambda im_mc: (im_mc[...,0], im_mc[...,1])"
   ]
  },
  {
   "cell_type": "code",
   "execution_count": null,
   "metadata": {},
   "outputs": [],
   "source": [
    "gt, gt_multichannel = syntheticImage_fn() \n",
    "gt_skin, gt_vessels = multichannel2images(gt_multichannel)\n",
    "gt_labels = utils.process_vessel_and_skinline(v=gt_vessels, sl=gt_skin)"
   ]
  },
  {
   "cell_type": "code",
   "execution_count": null,
   "metadata": {},
   "outputs": [],
   "source": [
    "ncols = 4\n",
    "ims = (gt, gt_labels, gt_skin, gt_vessels)\n",
    "titles = ('acoustic pressure map', 'labels', 'GT skin', 'GT vessels')\n",
    "fig, axs = plt.subplots(nrows=1,ncols=ncols, figsize=(8*1,8*ncols), dpi=300)\n",
    "for i in range(len(ims)):\n",
    "    axs[i].set_title(f\"{titles[i]}\") \n",
    "    im = ims[i]\n",
    "    axs[i].set_axis_off()\n",
    "    axs[i].imshow(im, cmap='gray')\n",
    "plt.savefig('resources/sample.jpg', bbox_inches='tight')"
   ]
  }
 ],
 "metadata": {
  "interpreter": {
   "hash": "591993bc48dfc0486be1c86e30cd8a8d6fd7170409281c509ebfa42684d77255"
  },
  "kernelspec": {
   "display_name": "Python 3.9.0 ('tf')",
   "language": "python",
   "name": "python3"
  },
  "language_info": {
   "codemirror_mode": {
    "name": "ipython",
    "version": 3
   },
   "file_extension": ".py",
   "mimetype": "text/x-python",
   "name": "python",
   "nbconvert_exporter": "python",
   "pygments_lexer": "ipython3",
   "version": "3.9.0"
  },
  "orig_nbformat": 4
 },
 "nbformat": 4,
 "nbformat_minor": 2
}
